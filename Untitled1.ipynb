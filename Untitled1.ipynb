{
  "nbformat": 4,
  "nbformat_minor": 0,
  "metadata": {
    "colab": {
      "name": "Untitled1.ipynb",
      "provenance": [],
      "authorship_tag": "ABX9TyMo600T/rn363GiMjPE0lCX",
      "include_colab_link": true
    },
    "kernelspec": {
      "name": "python3",
      "display_name": "Python 3"
    }
  },
  "cells": [
    {
      "cell_type": "markdown",
      "metadata": {
        "id": "view-in-github",
        "colab_type": "text"
      },
      "source": [
        "<a href=\"https://colab.research.google.com/github/smahakal/python1/blob/main/Untitled1.ipynb\" target=\"_parent\"><img src=\"https://colab.research.google.com/assets/colab-badge.svg\" alt=\"Open In Colab\"/></a>"
      ]
    },
    {
      "cell_type": "markdown",
      "metadata": {
        "id": "KhU2q9gundQ1"
      },
      "source": [
        "WAPTO INPUT YOURNAME ,AGE,ADDRESS AND PRINT THEM."
      ]
    },
    {
      "cell_type": "code",
      "metadata": {
        "colab": {
          "base_uri": "https://localhost:8080/"
        },
        "id": "B_MXb-8efRH1",
        "outputId": "bb922e19-624b-436c-fc91-7cedcf7c1d8c"
      },
      "source": [
        "name=input(\"enter your name\")\r\n",
        "age=(input(\"enter your age\"))\r\n",
        "address=input(\"enter your adress\")\r\n",
        "print(\"your nameis\" +name +\"age is\" +age +\"adress is\" +address)"
      ],
      "execution_count": 5,
      "outputs": [
        {
          "output_type": "stream",
          "text": [
            "enter your names]\n",
            "enter your age2\n",
            "enter your adressr\n",
            "your nameiss]age is2adress isr\n"
          ],
          "name": "stdout"
        }
      ]
    },
    {
      "cell_type": "markdown",
      "metadata": {
        "id": "wBVgYKbln2GC"
      },
      "source": [
        "WAP TO PRINT THE AREA OF THE CIRCLE"
      ]
    },
    {
      "cell_type": "code",
      "metadata": {
        "colab": {
          "base_uri": "https://localhost:8080/"
        },
        "id": "UiaFfpckgxYj",
        "outputId": "55b84728-d47e-4f1e-c912-5af2fc5db9f5"
      },
      "source": [
        "c=int(input(\"enter the radious\"))\r\n",
        "print(\"areaofthe circle\" ,(3.14*c*c))"
      ],
      "execution_count": 6,
      "outputs": [
        {
          "output_type": "stream",
          "text": [
            "enter the radious3\n",
            "areaofthe circle 28.259999999999998\n"
          ],
          "name": "stdout"
        }
      ]
    },
    {
      "cell_type": "markdown",
      "metadata": {
        "id": "qNye26bdoE4Y"
      },
      "source": [
        "WAP TO PROINT THE AREA OFTHE TRINGLE."
      ]
    },
    {
      "cell_type": "code",
      "metadata": {
        "colab": {
          "base_uri": "https://localhost:8080/"
        },
        "id": "U4fLfY4zhufF",
        "outputId": "993f30a6-f74b-4a83-ac22-801bc47e9227"
      },
      "source": [
        "c=int(input(\"enter the base\"))\r\n",
        "d=int(input(\"enter the height\"))\r\n",
        "print(\"area ofthe tringle is\",(c*d)/2)"
      ],
      "execution_count": 7,
      "outputs": [
        {
          "output_type": "stream",
          "text": [
            "enter the base3\n",
            "enter the height3\n",
            "area ofthe tringle is 4.5\n"
          ],
          "name": "stdout"
        }
      ]
    },
    {
      "cell_type": "markdown",
      "metadata": {
        "id": "_X_shVe0oN04"
      },
      "source": [
        "WAP TPO PRINT THE VOLUME OF THE SPHERE"
      ]
    },
    {
      "cell_type": "code",
      "metadata": {
        "colab": {
          "base_uri": "https://localhost:8080/"
        },
        "id": "fc90mQnViM2D",
        "outputId": "d83a21ef-9205-4668-a5d4-7d827868fc84"
      },
      "source": [
        "s=int(input(\"enter the radious\"))\r\n",
        "print(\"volume ofsphere is\",(4/3)*3.14*s*s*s)"
      ],
      "execution_count": 9,
      "outputs": [
        {
          "output_type": "stream",
          "text": [
            "enter the radious3\n",
            "volume ofsphere is 113.03999999999998\n"
          ],
          "name": "stdout"
        }
      ]
    },
    {
      "cell_type": "markdown",
      "metadata": {
        "id": "pZXtNC0BoV74"
      },
      "source": [
        "WAP TO PRINT  A LIST "
      ]
    },
    {
      "cell_type": "code",
      "metadata": {
        "colab": {
          "base_uri": "https://localhost:8080/"
        },
        "id": "Q4uqYwqTisSi",
        "outputId": "cf76fef8-cca9-44e5-dca1-f82ee5475513"
      },
      "source": [
        "l=[\"f\",\"w\",\"e\",\"r\",\"t\"]\r\n",
        "print(l)"
      ],
      "execution_count": 10,
      "outputs": [
        {
          "output_type": "stream",
          "text": [
            "['f', 'w', 'e', 'r', 't']\n"
          ],
          "name": "stdout"
        }
      ]
    },
    {
      "cell_type": "markdown",
      "metadata": {
        "id": "uvUY50Zeocz4"
      },
      "source": [
        "WAP TO PRINT TGHE REVERSE OF THE STRING"
      ]
    },
    {
      "cell_type": "code",
      "metadata": {
        "colab": {
          "base_uri": "https://localhost:8080/"
        },
        "id": "l2ETsEaVjFEg",
        "outputId": "03b1419c-3d6d-4369-964e-a0e2afd20212"
      },
      "source": [
        "s=input(\"enter a string\")\r\n",
        "print(s[::-1])"
      ],
      "execution_count": 16,
      "outputs": [
        {
          "output_type": "stream",
          "text": [
            "enter a stringdef\n",
            "fed\n"
          ],
          "name": "stdout"
        }
      ]
    },
    {
      "cell_type": "markdown",
      "metadata": {
        "id": "gW5gld0-oj7o"
      },
      "source": [
        "**WAP TO ENTER THE MARK OF THE THREE SUBJECT AND DIS PLAY THE TOTAL MARK AND PERCENTAGE OF THE MARK"
      ]
    },
    {
      "cell_type": "code",
      "metadata": {
        "colab": {
          "base_uri": "https://localhost:8080/"
        },
        "id": "MGjpvyadkUnn",
        "outputId": "a97e87cd-3a74-4922-f9e6-996ff0edd098"
      },
      "source": [
        "t=int(input(\"enter total mark\"))\r\n",
        "s=int(input(\"enter mark for coa\"))\r\n",
        "d=int(input(\"enter mark for fpp\"))\r\n",
        "f=int(input(\"enter mark for cn\"))\r\n",
        "sum=s+d+f\r\n",
        "percentage=(sum/t)*100\r\n",
        "print(\"YOUR MARK IS\",sum)\r\n",
        "print(\"YOUR PERCENTAGE IS\",percentage)"
      ],
      "execution_count": 24,
      "outputs": [
        {
          "output_type": "stream",
          "text": [
            "enter total mark300\n",
            "enter mark for coa100\n",
            "enter mark for fpp100\n",
            "enter mark for cn100\n",
            "YOUR MARK IS 300\n",
            "YOUR PERCENTAGE IS 100.0\n"
          ],
          "name": "stdout"
        }
      ]
    },
    {
      "cell_type": "markdown",
      "metadata": {
        "id": "X8mMD0PFnD-P"
      },
      "source": [
        ""
      ]
    }
  ]
}